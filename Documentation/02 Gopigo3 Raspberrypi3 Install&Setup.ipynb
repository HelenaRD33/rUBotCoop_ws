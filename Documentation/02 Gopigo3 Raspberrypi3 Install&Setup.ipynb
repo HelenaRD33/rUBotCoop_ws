{
 "cells": [
  {
   "cell_type": "markdown",
   "metadata": {},
   "source": [
    "# Raspberrypi3 Install&Setup"
   ]
  },
  {
   "cell_type": "markdown",
   "metadata": {},
   "source": [
    "Since you will be using only the core ROS packages in your Raspberry Pi, it is recommended that you install the latest Ubuntu LTS version, that is, Ubuntu Mate 18.04 Bionic (https://ubuntu-mate.org/download/). This is because, although almost all contributed ROS packages are available for ROS Kinetic, it is also true that core packages are already available in the 2018 version of ROS Melodic. Therefore, it is safe to install this release in the Raspberry Pi under Ubuntu 18.04. As mentioned already, the instructions on the ROS Melodic installation page (http://wiki.ros.org/melodic/Installation/Ubuntu) are pretty clear and straightforward.\n",
    "\n",
    "If installing ROS Desktop (which is recommended for beginners and for covering the contents of this book), use the following command:\n"
   ]
  },
  {
   "cell_type": "code",
   "execution_count": null,
   "metadata": {},
   "outputs": [],
   "source": [
    "sudo apt-get install ros-melodic-desktop"
   ]
  }
 ],
 "metadata": {
  "kernelspec": {
   "display_name": "Python 3",
   "language": "python",
   "name": "python3"
  },
  "language_info": {
   "codemirror_mode": {
    "name": "ipython",
    "version": 3
   },
   "file_extension": ".py",
   "mimetype": "text/x-python",
   "name": "python",
   "nbconvert_exporter": "python",
   "pygments_lexer": "ipython3",
   "version": "3.7.3"
  }
 },
 "nbformat": 4,
 "nbformat_minor": 2
}
