{
 "cells": [
  {
   "cell_type": "markdown",
   "metadata": {},
   "source": [
    "# ROS Tutorial"
   ]
  },
  {
   "cell_type": "markdown",
   "metadata": {},
   "source": [
    "This tutorial has been extracted from the following references:\n",
    "- http://wiki.ros.org/ROS/Tutorials\n",
    "- http://www.clearpathrobotics.com/assets/guides/kinetic/ros/\n",
    "- ROS free course in Udemy: https://www.udemy.com/share/101GMwAEITeFhTRX4F/\n",
    "- ROS Course Anis Koubaa: https://www.udemy.com/ros-essentials/\n",
    "- ROS course Edouard Renard: https://www.udemy.com/share/1022ucAEITeFhTRX4F/\n",
    "- ROS course: https://github.com/PacktPublishing/Hands-On-ROS-for-Robotics-Programming"
   ]
  },
  {
   "cell_type": "markdown",
   "metadata": {},
   "source": [
    "# What is ROS?"
   ]
  },
  {
   "cell_type": "markdown",
   "metadata": {},
   "source": [
    "Robot Operating System (ROS) is an open source piece of software. Its development started at Willow Garage, a technology incubator and robotics research laboratory. \n",
    "- Its origin dates back to several projects at Stanford University from the mid-2000s, where researchers found themselves reinventing the wheel every time they had to build the software for each project. \n",
    "- In 2007, Willow Garage took the lead and gave rise to ROS. The main goal was to reuse existing code and make it possible to prototype new robot designs quickly, focusing on high-level functionality and minimizing the need for editing code.\n",
    "- ROS is intended for the development of applications where different devices have to talk to each other in order to create a flexible and scalable environment.\n",
    "- A ROS system is comprised of a number of independent nodes, each of which communicates with the other nodes using a publish/subscribe messaging model. For example, a particular sensor’s driver might be implemented as a node, which publishes sensor data in a stream of messages. These messages could be consumed by any number of other nodes, including filters, loggers, and also higher-level systems such as guidance, pathfinding, etc.\n",
    "- Note that nodes in ROS do not have to be on the same system (multiple computers) or even of the same architecture! You could have a Arduino publishing messages, a laptop subscribing to them, and an Android phone driving motors. This makes ROS really flexible and adaptable to the needs of the user. ROS is also open source, maintained by many people."
   ]
  },
  {
   "cell_type": "markdown",
   "metadata": {},
   "source": [
    "# General Concepts"
   ]
  },
  {
   "cell_type": "markdown",
   "metadata": {},
   "source": [
    "Let’s look at the ROS system from a very high level view. No need to worry how any of the following works, we will cover that later.\n",
    "\n",
    "ROS starts with the ROS Master. The Master allows all other ROS pieces of software (Nodes) to find and talk to each other. That way, we do not have to ever specifically state “Send this sensor data to that computer at 127.0.0.1. We can simply tell Node 1 to send messages to Node 2."
   ]
  },
  {
   "cell_type": "markdown",
   "metadata": {},
   "source": [
    "<img src=\"./Images/1_ros_nodes.png\">"
   ]
  },
  {
   "cell_type": "markdown",
   "metadata": {},
   "source": [
    "How do Nodes do this? By publishing and subscribing to Topics.\n",
    "\n",
    "Let’s say we have a camera on our Robot. We want to be able to see the images from the camera, both on the Robot itself, and on another laptop.\n",
    "\n",
    "In our example, we have a Camera Node that takes care of communication with the camera, a Image Processing Node on the robot that process image data, and a Image Display Node that displays images on a screen. To start with, all Nodes have registered with the Master. Think of the Master as a lookup table where all the nodes go to find where exactly to send messages."
   ]
  },
  {
   "cell_type": "markdown",
   "metadata": {},
   "source": [
    "<img src=\"./Images/1_ros_nodes_camera.png\">"
   ]
  },
  {
   "cell_type": "markdown",
   "metadata": {},
   "source": [
    "In registering with the ROS Master, the Camera Node states that it will Publish a Topic called /image_data (for example). Both of the other Nodes register that they areSubscribed to the Topic /image_data.\n",
    "\n",
    "Thus, once the Camera Node receives some data from the Camera, it sends the /image_data message directly to the other two nodes. (Through what is essentially TCP/IP)"
   ]
  },
  {
   "cell_type": "markdown",
   "metadata": {},
   "source": [
    "<img src=\"./Images/1_ros_nodes_camera2.png\">"
   ]
  },
  {
   "cell_type": "markdown",
   "metadata": {},
   "source": [
    "Now you may be thinking, what if I want the Image Processing Node to request data from the Camera Node at a specific time? To do this, ROS implements Services.\n",
    "\n",
    "A Node can register a specific service with the ROS Master, just as it registers its messages. In the below example, the Image Processing Node first requests /image_data, the Camera Node gathers data from the Camera, and then sends the reply."
   ]
  },
  {
   "cell_type": "markdown",
   "metadata": {},
   "source": [
    "<img src=\"./Images/1_ros_nodes_camera_service.png\">"
   ]
  },
  {
   "cell_type": "markdown",
   "metadata": {},
   "source": [
    "# ROS nodes and topics with Turtlesim "
   ]
  },
  {
   "cell_type": "markdown",
   "metadata": {},
   "source": [
    "This tutorial has been extracted from: \n",
    " - http://wiki.ros.org/turtlesim\n",
    " - http://wiki.ros.org/ROS/Tutorials/UnderstandingTopics\n",
    "\n",
    "Be sure you have installed the turtlesim package:"
   ]
  },
  {
   "cell_type": "code",
   "execution_count": null,
   "metadata": {},
   "outputs": [],
   "source": [
    "roscore"
   ]
  },
  {
   "cell_type": "code",
   "execution_count": null,
   "metadata": {},
   "outputs": [],
   "source": [
    "sudo apt-get install ros-kinetic-turtlesim"
   ]
  },
  {
   "cell_type": "code",
   "execution_count": null,
   "metadata": {},
   "outputs": [],
   "source": [
    "rosrun turtlesim turtlesim_node"
   ]
  },
  {
   "cell_type": "markdown",
   "metadata": {},
   "source": [
    "<img src=\"./Images/1_turtlesim1.png\">"
   ]
  },
  {
   "cell_type": "markdown",
   "metadata": {},
   "source": [
    "\"turtlesim_node\" is a node responsible to spawm the turtle in the blue board"
   ]
  },
  {
   "cell_type": "code",
   "execution_count": null,
   "metadata": {},
   "outputs": [],
   "source": [
    "rosnode list"
   ]
  },
  {
   "cell_type": "code",
   "execution_count": null,
   "metadata": {},
   "outputs": [],
   "source": [
    "rostopic list"
   ]
  },
  {
   "cell_type": "code",
   "execution_count": null,
   "metadata": {},
   "outputs": [],
   "source": [
    "rosservice list"
   ]
  },
  {
   "cell_type": "code",
   "execution_count": null,
   "metadata": {},
   "outputs": [],
   "source": [
    "rosparam list"
   ]
  },
  {
   "cell_type": "markdown",
   "metadata": {},
   "source": [
    "<img src=\"./Images/1_turtlesim2.png\">"
   ]
  },
  {
   "cell_type": "code",
   "execution_count": null,
   "metadata": {},
   "outputs": [],
   "source": [
    "rosrun turtlesim turtle_teleop_key"
   ]
  },
  {
   "cell_type": "markdown",
   "metadata": {},
   "source": [
    "<img src=\"./Images/1_turtlesim3.png\">"
   ]
  },
  {
   "cell_type": "markdown",
   "metadata": {},
   "source": [
    "\"turtle_teleop_key\" is another node responsible to comand and move the turtle."
   ]
  },
  {
   "cell_type": "markdown",
   "metadata": {},
   "source": [
    "We can see the nodes and topics structure with:\n",
    "- rqt_graph"
   ]
  },
  {
   "cell_type": "markdown",
   "metadata": {},
   "source": [
    "<img src=\"./Images/1_turtlesim5.png\">"
   ]
  },
  {
   "cell_type": "markdown",
   "metadata": {},
   "source": [
    "we can also publish a Twist type message with a rate of 1Hz in a circle, we use:"
   ]
  },
  {
   "cell_type": "code",
   "execution_count": null,
   "metadata": {},
   "outputs": [],
   "source": [
    "rostopic pub -r 1 /turtle1/cmd_vel geometry_msgs/Twist '[2, 0, 0]' '[0, 0, 2]'"
   ]
  },
  {
   "cell_type": "markdown",
   "metadata": {},
   "source": [
    "<img src=\"./Images/1_turtlesim7.png\">"
   ]
  },
  {
   "cell_type": "markdown",
   "metadata": {},
   "source": [
    "To see the information about the nodes, topics and messages:"
   ]
  },
  {
   "cell_type": "code",
   "execution_count": null,
   "metadata": {},
   "outputs": [],
   "source": [
    "rosnode info /turtlesim"
   ]
  },
  {
   "cell_type": "code",
   "execution_count": null,
   "metadata": {},
   "outputs": [],
   "source": [
    "rostopic info /turtle1/cmd_vel"
   ]
  },
  {
   "cell_type": "code",
   "execution_count": null,
   "metadata": {},
   "outputs": [],
   "source": [
    "rostopic info /turtle1/pose"
   ]
  },
  {
   "cell_type": "code",
   "execution_count": null,
   "metadata": {},
   "outputs": [],
   "source": [
    "rostopic echo /turtle1/cmd_vel"
   ]
  },
  {
   "cell_type": "code",
   "execution_count": null,
   "metadata": {},
   "outputs": [],
   "source": [
    "rostopic echo /turtle1/pose"
   ]
  },
  {
   "cell_type": "code",
   "execution_count": null,
   "metadata": {},
   "outputs": [],
   "source": [
    "rosmsg show geometry_msgs/Twist"
   ]
  },
  {
   "cell_type": "code",
   "execution_count": null,
   "metadata": {},
   "outputs": [],
   "source": [
    "rosmsg show turtlesim/Pose "
   ]
  },
  {
   "cell_type": "markdown",
   "metadata": {},
   "source": [
    "you can also find the message structure in google: http://docs.ros.org/melodic/api/geometry_msgs/html/msg/Twist.html"
   ]
  },
  {
   "cell_type": "markdown",
   "metadata": {},
   "source": [
    "<img src=\"./Images/1_turtlesim6.png\">"
   ]
  },
  {
   "cell_type": "markdown",
   "metadata": {},
   "source": [
    "<img src=\"./Images/1_turtlesim4.png\">"
   ]
  },
  {
   "cell_type": "markdown",
   "metadata": {},
   "source": [
    "We can use \"rqt_graph\" and \"rqt_plot\" to se the nodes-topics structure and the message values"
   ]
  },
  {
   "cell_type": "code",
   "execution_count": null,
   "metadata": {},
   "outputs": [],
   "source": [
    "rqt_graph"
   ]
  },
  {
   "cell_type": "code",
   "execution_count": null,
   "metadata": {},
   "outputs": [],
   "source": [
    "rqt_plot"
   ]
  },
  {
   "cell_type": "markdown",
   "metadata": {},
   "source": [
    "<img src=\"./Images/1_turtlesim8.png\">"
   ]
  },
  {
   "cell_type": "markdown",
   "metadata": {},
   "source": [
    "## ROS Publishers and Subscribers"
   ]
  },
  {
   "cell_type": "markdown",
   "metadata": {},
   "source": [
    "You can see more details in http://wiki.ros.org/ROS/Tutorials/WritingPublisherSubscriber%28python%29\n",
    "\n",
    "We will show first how to create a python script to publish in a topic."
   ]
  },
  {
   "cell_type": "markdown",
   "metadata": {},
   "source": [
    "A python publisher node is defined as an exemple in the following code:\n",
    "- we create a \"talker\" node\n",
    "- to publish a String type message \n",
    "- in a /chatter topic\n",
    "- with a rate of 10Hz"
   ]
  },
  {
   "cell_type": "code",
   "execution_count": null,
   "metadata": {},
   "outputs": [],
   "source": [
    "#!/usr/bin/env python\n",
    "# license removed for brevity\n",
    "import rospy\n",
    "from std_msgs.msg import String\n",
    "\n",
    "def talker():\n",
    "    pub = rospy.Publisher('chatter', String, queue_size=10)\n",
    "    rospy.init_node('talker', anonymous=True)\n",
    "    rate = rospy.Rate(10) # 10hz\n",
    "    while not rospy.is_shutdown():\n",
    "        hello_str = \"hello world %s\" % rospy.get_time()\n",
    "        rospy.loginfo(hello_str)\n",
    "        pub.publish(hello_str)\n",
    "        rate.sleep()\n",
    "\n",
    "if __name__ == '__main__':\n",
    "    try:\n",
    "        talker()\n",
    "    except rospy.ROSInterruptException:\n",
    "        pass"
   ]
  },
  {
   "cell_type": "markdown",
   "metadata": {},
   "source": [
    "Now we show how to create a python script to subscribe to a topic:"
   ]
  },
  {
   "cell_type": "markdown",
   "metadata": {},
   "source": [
    "A python subscriber node is defined as an example in the following code:\n",
    "- we create a \"listener\" node\n",
    "- subscribes to the /chatter topic \n",
    "- a message of type std_msgs.msgs.String \n",
    "- When new messages are received, callback is invoked with the message as the first argument"
   ]
  },
  {
   "cell_type": "code",
   "execution_count": null,
   "metadata": {},
   "outputs": [],
   "source": [
    "#!/usr/bin/env python\n",
    "import rospy\n",
    "from std_msgs.msg import String\n",
    "\n",
    "def callback(data):\n",
    "    rospy.loginfo(rospy.get_caller_id() + \"I heard %s\", data.data)\n",
    "    \n",
    "def listener():\n",
    "\n",
    "    # In ROS, nodes are uniquely named. If two nodes with the same\n",
    "    # name are launched, the previous one is kicked off. The\n",
    "    # anonymous=True flag means that rospy will choose a unique\n",
    "    # name for our 'listener' node so that multiple listeners can\n",
    "    # run simultaneously.\n",
    "    rospy.init_node('listener', anonymous=True)\n",
    "\n",
    "    rospy.Subscriber(\"chatter\", String, callback)\n",
    "\n",
    "    # spin() simply keeps python from exiting until this node is stopped\n",
    "    rospy.spin()\n",
    "\n",
    "if __name__ == '__main__':\n",
    "    listener()"
   ]
  },
  {
   "cell_type": "markdown",
   "metadata": {},
   "source": [
    "### Exercise: Counter"
   ]
  },
  {
   "cell_type": "markdown",
   "metadata": {},
   "source": [
    "Develop a ROS package to perform the following functionalities.\n",
    "- Publish a number every 1s\n",
    "- Read this number, adds with the previous one and publishes the result"
   ]
  },
  {
   "cell_type": "markdown",
   "metadata": {},
   "source": [
    "We create first a ROS package \"ROS_begining_tutorial\" with the dependencies rospy and std_msgs"
   ]
  },
  {
   "cell_type": "code",
   "execution_count": null,
   "metadata": {},
   "outputs": [],
   "source": [
    "catkin_create_pkg beginner_tutorials std_msgs rospy"
   ]
  },
  {
   "cell_type": "code",
   "execution_count": null,
   "metadata": {},
   "outputs": [],
   "source": [
    "cd ..\n",
    "catkin_make"
   ]
  },
  {
   "cell_type": "markdown",
   "metadata": {},
   "source": [
    "Create a \"script\" folder and generate the python file for the Publiser:"
   ]
  },
  {
   "cell_type": "code",
   "execution_count": null,
   "metadata": {},
   "outputs": [],
   "source": [
    "#!/usr/bin/env python\n",
    "\n",
    "import rospy\n",
    "from std_msgs.msg import Int64\n",
    "\n",
    "if __name__ == '__main__':\n",
    "\trospy.init_node(\"number_publisher\", anonymous=True)\n",
    "\n",
    "\tpub = rospy.Publisher(\"/number\", Int64, queue_size=10)\n",
    "\n",
    "\trate = rospy.Rate(1)\n",
    "\n",
    "\twhile not rospy.is_shutdown():\n",
    "\t\tmsg = Int64()\n",
    "\t\tmsg.data = 2\n",
    "\t\tpub.publish(msg)\n",
    "\t\trate.sleep()"
   ]
  },
  {
   "cell_type": "markdown",
   "metadata": {},
   "source": [
    "Do not forget to make the file executable: chmod +x Publisher_num.py\n",
    "\n",
    "In \"script\" folder create the python file for the Publiser/Subscriber:"
   ]
  },
  {
   "cell_type": "code",
   "execution_count": null,
   "metadata": {},
   "outputs": [],
   "source": [
    "#!/usr/bin/env python\n",
    "\n",
    "import rospy\n",
    "from std_msgs.msg import Int64\n",
    "\n",
    "counter = 0\n",
    "pub = None\n",
    "\n",
    "def callback_number(msg):\n",
    "\tglobal counter\n",
    "\tcounter += msg.data\n",
    "\tnew_msg = Int64()\n",
    "\tnew_msg.data = counter\n",
    "\tpub.publish(new_msg)\n",
    "    rospy.loginfo(\"I Publish the counter value: %s\", counter)\n",
    "\n",
    "if __name__ == '__main__':\n",
    "\trospy.init_node('number_counter')\n",
    "\n",
    "\tsub = rospy.Subscriber(\"/number\", Int64, callback_number)\n",
    "\n",
    "\tpub = rospy.Publisher(\"/number_count\", Int64, queue_size=10)\n",
    "\n",
    "\trospy.spin()"
   ]
  },
  {
   "cell_type": "markdown",
   "metadata": {},
   "source": [
    "Do not forget to make the file executable: chmod +x PubSub_counter.py\n",
    "\n",
    "These python scripts can be adapted to the desired control functions.\n",
    "\n",
    "To properly run the ROS application, create a launch folder containing the launch file:"
   ]
  },
  {
   "cell_type": "code",
   "execution_count": null,
   "metadata": {},
   "outputs": [],
   "source": [
    "<?xml version=\"1.0\" encoding=\"UTF-8\"?>\n",
    "\n",
    "<launch>\n",
    "    <node pkg=\"beginner_tutorials\" type=\"Publisher_num.py\" name=\"number_publisher\"/>\n",
    "    <node pkg=\"beginner_tutorials\" type=\"PubSub_counter.py\" name=\"number_counter\" output=\"screen\" />\n",
    "</launch>"
   ]
  },
  {
   "cell_type": "code",
   "execution_count": null,
   "metadata": {},
   "outputs": [],
   "source": [
    "roslaunch beginner_tutorials counter.launch"
   ]
  },
  {
   "cell_type": "markdown",
   "metadata": {},
   "source": [
    "## Navigation control of Turtlesim"
   ]
  },
  {
   "cell_type": "markdown",
   "metadata": {},
   "source": [
    "A specific node can be created to command the turtlesim.\n",
    "This node:\n",
    "- publishes in the /turtle1/cmd_vel topic \n",
    "- subscribes to the /turtle1/pose topic\n",
    "- performs a speciffic motion control function\n",
    "\n",
    "This is performed following the tutorial:\n",
    "- http://wiki.ros.org/turtlesim/Tutorials\n",
    "- http://wiki.ros.org/turtlesim/Tutorials#Practicing_Python_with_Turtlesim\n",
    "- http://wiki.ros.org/turtlesim/Tutorials/Go%20to%20Goal\n",
    "- https://github.com/Apress/Robot-Operating-System-Abs-Begs"
   ]
  },
  {
   "cell_type": "markdown",
   "metadata": {},
   "source": [
    "In order to develop this we have first to create a package where different motion control programs will be done.\n",
    "\n",
    "We create a \"turtlesim_tutorial\" package with dependencies (rospy, geometry_msgs, turtlesim)\n",
    "\n",
    "In src directory:"
   ]
  },
  {
   "cell_type": "code",
   "execution_count": null,
   "metadata": {},
   "outputs": [],
   "source": [
    "catkin_create_pkg turtlesim_tutorial rospy geometry_msgs turtlesim"
   ]
  },
  {
   "cell_type": "code",
   "execution_count": null,
   "metadata": {},
   "outputs": [],
   "source": [
    "cd .."
   ]
  },
  {
   "cell_type": "code",
   "execution_count": null,
   "metadata": {},
   "outputs": [],
   "source": [
    "catkin_make"
   ]
  },
  {
   "cell_type": "markdown",
   "metadata": {},
   "source": [
    "Now we create a folder \"scripts\" (in scr folder) where we will place python programs for speciffic motion control functions. The functions we will program in this tutorial will be:\n",
    "- Move distance\n",
    "- Go to a point"
   ]
  },
  {
   "cell_type": "markdown",
   "metadata": {},
   "source": [
    "### Exercise: Move distance with turtlesim"
   ]
  },
  {
   "cell_type": "markdown",
   "metadata": {},
   "source": [
    "Develop a ROS package to perform the following functionalities.\n",
    "- Specify a distance in x direction for turtlesim to move\n",
    "- Read the Pose of turtlesim\n",
    "- if the Pose is lower than the the distance specified, publish linear and angular speed\n",
    "- if the Pose is higher, stop"
   ]
  },
  {
   "cell_type": "markdown",
   "metadata": {},
   "source": [
    "Create in /src/scripts the python file \"move_distance.py\""
   ]
  },
  {
   "cell_type": "code",
   "execution_count": null,
   "metadata": {},
   "outputs": [],
   "source": [
    "#!/usr/bin/env python\n",
    "\n",
    "import rospy\n",
    "\n",
    "from geometry_msgs.msg import Twist\n",
    "\n",
    "from turtlesim.msg import Pose\n",
    "\n",
    "import sys\n",
    "\n",
    "robot_x = 0\n",
    "\n",
    "\n",
    "def pose_callback(pose):\n",
    "    global robot_x\n",
    "\n",
    "\trospy.loginfo(\"Robot X = %f\\n\",pose.x)\n",
    "\n",
    "\trobot_x = pose.x\n",
    "\n",
    "\n",
    "def move_turtle(lin_vel,ang_vel,distance):\n",
    "\n",
    "    global robot_x\n",
    "\n",
    "    rospy.init_node('move_turtle', anonymous=False)\n",
    "    pub = rospy.Publisher('/turtle1/cmd_vel', Twist, queue_size=10)\n",
    "    \n",
    "    rospy.Subscriber('/turtle1/pose',Pose, pose_callback)\n",
    "\n",
    "    rate = rospy.Rate(10) # 10hz\n",
    " \n",
    "    vel = Twist()\n",
    "    while not rospy.is_shutdown():\n",
    "        \n",
    "\tvel.linear.x = lin_vel\n",
    "\tvel.linear.y = 0\n",
    "\tvel.linear.z = 0\n",
    "\n",
    "\tvel.angular.x = 0\n",
    "\tvel.angular.y = 0\n",
    "\tvel.angular.z = ang_vel\n",
    "\n",
    "        #rospy.loginfo(\"Linear Vel = %f: Angular Vel = %f\",lin_vel,ang_vel)\n",
    "\n",
    "\tif(robot_x >= distance):\n",
    "\t\trospy.loginfo(\"Robot Reached destination\")\n",
    "\t\trospy.logwarn(\"Stopping robot\")\n",
    "\n",
    "\t\tbreak\n",
    "\n",
    "        pub.publish(vel)\n",
    "\n",
    "        rate.sleep()\n",
    "\n",
    "if __name__ == '__main__':\n",
    "    try:\n",
    "        move_turtle(float(sys.argv[1]),float(sys.argv[2]),float(sys.argv[3]))\n",
    "    except rospy.ROSInterruptException:\n",
    "        pass"
   ]
  },
  {
   "cell_type": "markdown",
   "metadata": {},
   "source": [
    "make the file executable: chmod +x move_distance.py"
   ]
  },
  {
   "cell_type": "markdown",
   "metadata": {},
   "source": [
    "type in a terminal:"
   ]
  },
  {
   "cell_type": "code",
   "execution_count": null,
   "metadata": {},
   "outputs": [],
   "source": [
    "roscore\n",
    "rosrun turtlesim turtlesim_node\n",
    "rosrun turtlesim_tutorial move_distance.py 0.4 0.0 7.0"
   ]
  },
  {
   "cell_type": "markdown",
   "metadata": {},
   "source": [
    "<img src=\"./Images/1_turtlesim_move_dist1.png\">"
   ]
  },
  {
   "cell_type": "markdown",
   "metadata": {},
   "source": [
    "<img src=\"./Images/1_turtlesim_move_dist2.png\">"
   ]
  },
  {
   "cell_type": "markdown",
   "metadata": {},
   "source": [
    "We can generate a launch file \"move_distance.launch\" to run all nodes:"
   ]
  },
  {
   "cell_type": "code",
   "execution_count": null,
   "metadata": {},
   "outputs": [],
   "source": [
    "<?xml version=\"1.0\" encoding=\"UTF-8\"?>\n",
    "\n",
    "<launch>\n",
    "    <arg name=\"v\" default=\"0.7\"/>\n",
    "    <arg name=\"w\" default=\"0\"/>\n",
    "    <arg name=\"d\" default=\"7\"/>\n",
    "    <param name=\"v\" value=\"$(arg v)\"/>\n",
    "    <param name=\"w\" value=\"$(arg w)\"/>\n",
    "    <param name=\"d\" value=\"$(arg d)\"/>\n",
    "    <node pkg=\"turtlesim\" type=\"turtlesim_node\" name=\"turtlesim_node\"/>\n",
    "    <node pkg=\"turtlesim_tutorial\" type=\"move_distance_params.py\" name=\"move_turtle\" output=\"screen\" />\n",
    "</launch>"
   ]
  },
  {
   "cell_type": "code",
   "execution_count": null,
   "metadata": {},
   "outputs": [],
   "source": [
    "roslaunch turtlesim_tutorial move_distance.launch"
   ]
  },
  {
   "cell_type": "markdown",
   "metadata": {},
   "source": [
    "### Exercise: Go to target point with turtlesim"
   ]
  },
  {
   "cell_type": "markdown",
   "metadata": {},
   "source": [
    "Develop a ROS package to perform the following functionalities.\n",
    "- Specify a target point (x,y) with a tolerance for turtlesim to move\n",
    "- Read the Pose of turtlesim\n",
    "- if the Pose is lower than the the distance specified, publish linear and angular speed\n",
    "- if the Pose is higher, stop"
   ]
  },
  {
   "cell_type": "markdown",
   "metadata": {},
   "source": [
    "We can do better!\n",
    "\n",
    "We can use a python Class and use input parameters to specify the target point and tolerance"
   ]
  },
  {
   "cell_type": "code",
   "execution_count": null,
   "metadata": {},
   "outputs": [],
   "source": [
    "#!/usr/bin/env python\n",
    "#!/usr/bin/env python\n",
    "import rospy\n",
    "from geometry_msgs.msg import Twist\n",
    "from turtlesim.msg import Pose\n",
    "from math import pow, atan2, sqrt\n",
    "\n",
    "\n",
    "class TurtleBot:\n",
    "\n",
    "    def __init__(self):\n",
    "        # Creates a node with name 'turtlebot_controller' and make sure it is a\n",
    "        # unique node (using anonymous=True).\n",
    "        rospy.init_node('turtlebot_controller', anonymous=True)\n",
    "\n",
    "        # Publisher which will publish to the topic '/turtle1/cmd_vel'.\n",
    "        self.velocity_publisher = rospy.Publisher('/turtle1/cmd_vel',\n",
    "                                                  Twist, queue_size=10)\n",
    "\n",
    "        # A subscriber to the topic '/turtle1/pose'. self.update_pose is called\n",
    "        # when a message of type Pose is received.\n",
    "        self.pose_subscriber = rospy.Subscriber('/turtle1/pose',\n",
    "                                                Pose, self.update_pose)\n",
    "\n",
    "        self.pose = Pose()\n",
    "        self.rate = rospy.Rate(10)\n",
    "\n",
    "    def update_pose(self, data):\n",
    "        \"\"\"Callback function which is called when a new message of type Pose is\n",
    "        received by the subscriber.\"\"\"\n",
    "        self.pose = data\n",
    "        self.pose.x = round(self.pose.x, 4)\n",
    "        self.pose.y = round(self.pose.y, 4)\n",
    "\n",
    "    def euclidean_distance(self, goal_pose):\n",
    "        \"\"\"Euclidean distance between current pose and the goal.\"\"\"\n",
    "        return sqrt(pow((goal_pose.x - self.pose.x), 2) +\n",
    "                    pow((goal_pose.y - self.pose.y), 2))\n",
    "\n",
    "    def linear_vel(self, goal_pose, constant=1.5):\n",
    "        \"\"\"See video: https://www.youtube.com/watch?v=Qh15Nol5htM.\"\"\"\n",
    "        return constant * self.euclidean_distance(goal_pose)\n",
    "\n",
    "    def steering_angle(self, goal_pose):\n",
    "        \"\"\"See video: https://www.youtube.com/watch?v=Qh15Nol5htM.\"\"\"\n",
    "        return atan2(goal_pose.y - self.pose.y, goal_pose.x - self.pose.x)\n",
    "\n",
    "    def angular_vel(self, goal_pose, constant=6):\n",
    "        \"\"\"See video: https://www.youtube.com/watch?v=Qh15Nol5htM.\"\"\"\n",
    "        return constant * (self.steering_angle(goal_pose) - self.pose.theta)\n",
    "\n",
    "    def move2goal(self):\n",
    "        \"\"\"Moves the turtle to the goal.\"\"\"\n",
    "        goal_pose = Pose()\n",
    "\n",
    "        # Get the input from the user.\n",
    "        goal_pose.x = input(\"Set your x goal: \")\n",
    "        goal_pose.y = input(\"Set your y goal: \")\n",
    "\n",
    "        # Please, insert a number slightly greater than 0 (e.g. 0.01).\n",
    "        distance_tolerance = input(\"Set your tolerance: \")\n",
    "\n",
    "        vel_msg = Twist()\n",
    "\n",
    "        while self.euclidean_distance(goal_pose) >= distance_tolerance:\n",
    "\n",
    "            # Porportional controller.\n",
    "            # https://en.wikipedia.org/wiki/Proportional_control\n",
    "\n",
    "            # Linear velocity in the x-axis.\n",
    "            vel_msg.linear.x = self.linear_vel(goal_pose)\n",
    "            vel_msg.linear.y = 0\n",
    "            vel_msg.linear.z = 0\n",
    "\n",
    "            # Angular velocity in the z-axis.\n",
    "            vel_msg.angular.x = 0\n",
    "            vel_msg.angular.y = 0\n",
    "            vel_msg.angular.z = self.angular_vel(goal_pose)\n",
    "\n",
    "            # Publishing our vel_msg\n",
    "            self.velocity_publisher.publish(vel_msg)\n",
    "\n",
    "            # Publish at the desired rate.\n",
    "            self.rate.sleep()\n",
    "\n",
    "        # Stopping our robot after the movement is over.\n",
    "        vel_msg.linear.x = 0\n",
    "        vel_msg.angular.z = 0\n",
    "        self.velocity_publisher.publish(vel_msg)\n",
    "\n",
    "        # If we press control + C, the node will stop.\n",
    "        rospy.spin()\n",
    "\n",
    "if __name__ == '__main__':\n",
    "    try:\n",
    "        x = TurtleBot()\n",
    "        x.move2goal()\n",
    "    except rospy.ROSInterruptException:\n",
    "        pass"
   ]
  },
  {
   "cell_type": "code",
   "execution_count": null,
   "metadata": {},
   "outputs": [],
   "source": [
    "rosrun turtlesim_tutorial go2point.py"
   ]
  },
  {
   "cell_type": "raw",
   "metadata": {},
   "source": [
    "We can program the setting up of all the nodes using a \"go2point.launch\" launch file"
   ]
  },
  {
   "cell_type": "code",
   "execution_count": null,
   "metadata": {},
   "outputs": [],
   "source": [
    "<?xml version=\"1.0\" encoding=\"UTF-8\"?>\n",
    "\n",
    "<launch>\n",
    "    <node pkg=\"turtlesim\" type=\"turtlesim_node\" name=\"turtlesim_node\"/>\n",
    "    <node pkg=\"turtlesim_tutorial\" type=\"go2point.py\" name=\"turtlebot_controller\" output=\"screen\" />\n",
    "</launch>"
   ]
  },
  {
   "cell_type": "code",
   "execution_count": null,
   "metadata": {},
   "outputs": [],
   "source": [
    "roslaunch turtlesim_tutorial go2point.launch"
   ]
  },
  {
   "cell_type": "markdown",
   "metadata": {},
   "source": [
    "<img src=\"./Images/1_turtlesim_go2point1.png\">"
   ]
  },
  {
   "cell_type": "markdown",
   "metadata": {},
   "source": [
    "<img src=\"./Images/1_turtlesim_go2point2.png\">"
   ]
  },
  {
   "cell_type": "markdown",
   "metadata": {},
   "source": [
    "<img src=\"./Images/1_turtlesim_launch1.png\">"
   ]
  },
  {
   "cell_type": "markdown",
   "metadata": {},
   "source": [
    "<img src=\"./Images/1_turtlesim_launch2.png\">"
   ]
  }
 ],
 "metadata": {
  "kernelspec": {
   "display_name": "Python 3",
   "language": "python",
   "name": "python3"
  },
  "language_info": {
   "codemirror_mode": {
    "name": "ipython",
    "version": 3
   },
   "file_extension": ".py",
   "mimetype": "text/x-python",
   "name": "python",
   "nbconvert_exporter": "python",
   "pygments_lexer": "ipython3",
   "version": "3.7.3"
  }
 },
 "nbformat": 4,
 "nbformat_minor": 2
}
